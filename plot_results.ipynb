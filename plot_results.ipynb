{
 "nbformat": 4,
 "nbformat_minor": 0,
 "metadata": {
  "colab": {
   "provenance": [],
   "machine_shape": "hm",
   "gpuType": "T4"
  },
  "kernelspec": {
   "name": "python3",
   "language": "python",
   "display_name": "Python 3 (ipykernel)"
  },
  "language_info": {
   "name": "python"
  },
  "accelerator": "GPU"
 },
 "cells": [
  {
   "cell_type": "code",
   "execution_count": null,
   "metadata": {
    "id": "2tGWFadwIFkj",
    "colab": {
     "base_uri": "https://localhost:8080/"
    },
    "outputId": "ff2e219d-852e-4128-8472-2ccc40ce184d"
   },
   "outputs": [],
   "source": [
    "import os.path\n",
    "\n",
    "import numpy as np\n",
    "import pandas as pd\n",
    "import seaborn as sns\n",
    "import matplotlib.pyplot as plt"
   ]
  },
  {
   "cell_type": "code",
   "outputs": [],
   "source": [
    "def plot_auc(paths, sizes):\n",
    "    auc_mean = []\n",
    "    auc_stderr = []\n",
    "    auc_all = []\n",
    "    for path in paths:\n",
    "        auc = np.load(path)\n",
    "        # auc = auc[auc>auc.min()]\n",
    "        # auc = auc[auc<auc.max()]\n",
    "        auc_mean.append(np.median(auc))\n",
    "        auc_stderr.append(1.96*np.std(auc)/np.sqrt(len(auc)))\n",
    "        auc_all.append(auc)\n",
    "    \n",
    "    plt.figure()\n",
    "    plt.errorbar(sizes, auc_mean, auc_stderr, fmt='.')\n",
    "    return auc_mean, auc_stderr, auc_all"
   ],
   "metadata": {
    "collapsed": false
   },
   "execution_count": 0
  },
  {
   "cell_type": "code",
   "outputs": [],
   "source": [
    "labels = np.load(\"data/labels_ecg.npy\")"
   ],
   "metadata": {
    "collapsed": false
   },
   "execution_count": null
  },
  {
   "cell_type": "code",
   "outputs": [],
   "source": [
    "len(labels)"
   ],
   "metadata": {
    "collapsed": false
   },
   "execution_count": null
  },
  {
   "cell_type": "code",
   "outputs": [],
   "source": [
    "labels.sum()"
   ],
   "metadata": {
    "collapsed": false
   },
   "execution_count": null
  },
  {
   "cell_type": "code",
   "outputs": [],
   "source": [
    "5023+8354"
   ],
   "metadata": {
    "collapsed": false
   },
   "execution_count": null
  },
  {
   "cell_type": "code",
   "outputs": [],
   "source": [
    "labels.sum() / len(labels)"
   ],
   "metadata": {
    "collapsed": false
   },
   "execution_count": null
  },
  {
   "cell_type": "code",
   "outputs": [],
   "source": [
    "res = pd.read_csv(\"results/splitting_method_3/sample_10000/AFprediction_sample10000_250Hz_50reps_correct.csv\")\n",
    "res = res.drop(columns=[\"config\"])"
   ],
   "metadata": {
    "collapsed": false
   },
   "execution_count": null
  },
  {
   "cell_type": "code",
   "outputs": [],
   "source": [
    "sizes = [3500, 4500, 5500, 6500, 7500]\n",
    "path = \"results/splitting_method_3/sample_10000/\" # method 3, sample 2000, 100 repetitions, stable config\n",
    "paths = [path + \"/\" + str(size) + \"_2024-11-09/auc_test.npy\" for size in sizes]\n",
    "auc_mean, auc_stderr, auc_all = plot_auc(paths, sizes)\n",
    "res.columns = res.columns.values.astype(int)"
   ],
   "metadata": {
    "collapsed": false
   },
   "execution_count": null
  },
  {
   "cell_type": "code",
   "outputs": [],
   "source": [
    "auc_all"
   ],
   "metadata": {
    "collapsed": false
   },
   "execution_count": null
  },
  {
   "cell_type": "code",
   "outputs": [],
   "source": [
    "for i, size in enumerate(sizes):\n",
    "    res[size] = auc_all[i]"
   ],
   "metadata": {
    "collapsed": false
   },
   "execution_count": null
  },
  {
   "cell_type": "code",
   "outputs": [],
   "source": [
    "plt.plot(res.columns, res.mean(), '.')"
   ],
   "metadata": {
    "collapsed": false
   },
   "execution_count": null
  },
  {
   "cell_type": "code",
   "outputs": [],
   "source": [
    "res = res[np.sort(res.columns)]"
   ],
   "metadata": {
    "collapsed": false
   },
   "execution_count": null
  },
  {
   "cell_type": "code",
   "outputs": [],
   "source": [
    "res\n",
    "plt.plot(res.columns, res.mean(), '.')"
   ],
   "metadata": {
    "collapsed": false
   },
   "execution_count": null
  },
  {
   "cell_type": "code",
   "outputs": [],
   "source": [
    "res.to_csv(\"results/splitting_method_3/sample_10000/AFprediction_sample10000_250Hz_50reps.csv\", index=False)"
   ],
   "metadata": {
    "collapsed": false
   },
   "execution_count": null
  },
  {
   "cell_type": "code",
   "outputs": [],
   "source": [],
   "metadata": {
    "collapsed": false
   }
  },
  {
   "cell_type": "code",
   "outputs": [],
   "source": [],
   "metadata": {
    "collapsed": false
   }
  },
  {
   "cell_type": "code",
   "outputs": [],
   "source": [
    "import pandas as pd\n",
    "import numpy as np\n",
    "import seaborn as sns\n",
    "sns.reset_defaults()\n",
    "import matplotlib.pyplot as plt"
   ],
   "metadata": {
    "collapsed": false
   },
   "execution_count": null
  },
  {
   "cell_type": "code",
   "outputs": [],
   "source": [
    "df = pd.read_csv(\"results/splitting_method_3/sample_10000/AFprediction_sample10000_250Hz_50reps.csv\")"
   ],
   "metadata": {
    "collapsed": false
   },
   "execution_count": null
  },
  {
   "cell_type": "code",
   "outputs": [],
   "source": [
    "n = df.columns.values.astype(int)\n",
    "std_err = 1.96 *df.std() / np.sqrt(df.shape[0])"
   ],
   "metadata": {
    "collapsed": false
   },
   "execution_count": null
  },
  {
   "cell_type": "code",
   "outputs": [],
   "source": [
    "n_weights = 1 / n"
   ],
   "metadata": {
    "collapsed": false
   },
   "execution_count": null
  },
  {
   "cell_type": "code",
   "outputs": [],
   "source": [
    "sns.histplot(df[\"8000\"], bins=10)"
   ],
   "metadata": {
    "collapsed": false
   },
   "execution_count": null
  },
  {
   "cell_type": "code",
   "outputs": [],
   "source": [
    "plt.plot(std_err, '.-', label=\"Standard error\")\n",
    "plt.plot(n_weights, '.-', label=\"1/N\")\n",
    "plt.xticks(rotation=45)\n",
    "plt.legend()\n",
    "plt.yscale(\"log\")\n",
    "plt.ylim((0.0001, 0.02))\n",
    "plt.savefig(\"results/stdErr_vs_cardinality.jpg\", dpi=300)\n",
    "plt.show()"
   ],
   "metadata": {
    "collapsed": false
   },
   "execution_count": null
  },
  {
   "cell_type": "code",
   "outputs": [],
   "source": [
    "plt.plot(std_err / n_weights, \".-\",\n",
    "        label=\"(Standard error) / (1/N)\", linewidth=0.5)\n",
    "plt.xticks(rotation=45)\n",
    "plt.legend()\n",
    "plt.show()"
   ],
   "metadata": {
    "collapsed": false
   },
   "execution_count": null
  },
  {
   "cell_type": "code",
   "outputs": [],
   "source": [
    "# df = pd.read_csv(\"results/AFdetection_sample1000_100reps.csv\")\n",
    "# n = df.columns.values.astype(int)\n",
    "# std_err = df.std() / np.sqrt(df.shape[0])\n",
    "# plt.plot(std_err, '.-', label=\"Standard error\")\n",
    "# plt.plot(1/n, '.-', label=\"1/N\")\n",
    "# plt.xticks(rotation=45)\n",
    "# plt.legend()\n",
    "# plt.yscale(\"log\")\n",
    "# plt.ylim((0.001, 0.0105))\n",
    "# plt.show()"
   ],
   "metadata": {
    "collapsed": false
   },
   "execution_count": null
  },
  {
   "cell_type": "code",
   "outputs": [],
   "source": [
    "def sigma(x, threshold):\n",
    "    r = (x - threshold) / 1000\n",
    "    return 1 / (1+ np.exp(-r))"
   ],
   "metadata": {
    "collapsed": false
   },
   "execution_count": null
  },
  {
   "cell_type": "code",
   "outputs": [],
   "source": [
    "def f_exp(x, a, b, c):\n",
    "    return  a * np.exp(-b*x) + c\n",
    "\n",
    "# def f_pow3_exp(x, a, b, e, c):\n",
    "#     return sigma(x, 5000) * a * x**(-b) + sigma(x, 5000) * a * np.exp(-e*x) + c\n",
    "\n",
    "def f(x, a, b, c):\n",
    "    return a * x**(-b) + c"
   ],
   "metadata": {
    "collapsed": false
   },
   "execution_count": null
  },
  {
   "cell_type": "code",
   "outputs": [],
   "source": [
    "from scipy.optimize import curve_fit"
   ],
   "metadata": {
    "collapsed": false
   },
   "execution_count": null
  },
  {
   "cell_type": "code",
   "outputs": [],
   "source": [
    "x = df.columns.astype(int)\n",
    "y = df.median().values\n",
    "std_err = 1.96 * df.std() / np.sqrt(df.shape[0])"
   ],
   "metadata": {
    "collapsed": false
   },
   "execution_count": null
  },
  {
   "cell_type": "code",
   "outputs": [],
   "source": [
    "popt_exp, pcov_exp  = curve_fit(f=f_exp, xdata=x, ydata=y, sigma=std_err,\n",
    "                                p0=(-1, 0, 0.83),\n",
    "                                bounds=((-10, 0, 0.7),(0, 100, 0.9999)),\n",
    "                                maxfev=10000)\n",
    "plt.errorbar(x=x, y=y, yerr=std_err, fmt=\".\")\n",
    "plt.plot(np.linspace(x.min(), x.max(), 100), f_exp(np.linspace(x.min(), x.max(), 100), *popt_exp))\n",
    "plt.show()"
   ],
   "metadata": {
    "collapsed": false
   },
   "execution_count": null
  },
  {
   "cell_type": "code",
   "outputs": [],
   "source": [
    "def f_pow3_exp(x, a, b, c, e):\n",
    "    return sigma(x, 5000) * a * x**(-b) + sigma(x, 5000) * a * np.exp(-e*x) + c\n",
    "\n",
    "def smooth_piecewise(x, x_threshold, k, a1, b1, c1, a2, b2, c2):\n",
    "    \"\"\"\n",
    "    Smooth piecewise function transitioning between:\n",
    "    f1(x) = a1 * x^(-b1) + c1 (for x < x_threshold)\n",
    "    f2(x) = a2 * exp(-b2 * x) + c2 (for x >= x_threshold)\n",
    "    \n",
    "    Parameters:\n",
    "        x: Independent variable (array-like).\n",
    "        x_threshold: Threshold where the transition happens.\n",
    "        k: Smoothness/sharpness of the transition (higher k = sharper).\n",
    "        a1, b1, c1: Parameters for f1(x).\n",
    "        a2, b2, c2: Parameters for f2(x).\n",
    "    \n",
    "    Returns:\n",
    "        Smoothly transitioned values of f(x).\n",
    "    \"\"\"\n",
    "    # Sigmoid function for smooth transition\n",
    "    sigmoid = 1 / (1 + np.exp(-k * (x - x_threshold)))\n",
    "    \n",
    "    # Define the two behaviors\n",
    "    f1 = a1 * x**(-b1) + c1  # For x < x_threshold\n",
    "    f2 = a2 * np.exp(-b2 * x) + c2  # For x >= x_threshold\n",
    "    \n",
    "    # Smooth transition\n",
    "    return (1 - sigmoid) * f1 + sigmoid * f2\n",
    "\n",
    "popt_pow3_exp, pcov_pow3_exp  = curve_fit(f=f_pow3_exp, xdata=x, ydata=y, sigma=std_err,\n",
    "                                          p0=(-3, 0.4, 0.9, 0),\n",
    "                                          bounds=((-4, 0, 0, 0),(0, 1, 0.9999, 1)),\n",
    "                                          maxfev=10000)\n",
    "plt.errorbar(x=x, y=y, yerr=std_err, fmt=\".\")\n",
    "plt.plot(np.linspace(x.min(), x.max(), 100), f_pow3_exp(np.linspace(x.min(), x.max(), 100), *popt_pow3_exp))\n",
    "chi2 = np.sum(((y - f_pow3_exp(x, *popt_pow3_exp)) / std_err) ** 2)\n",
    "dof = len(y) - len(popt_pow3_exp)  # Number of data points - number of parameters\n",
    "reduced_chi2 = chi2 / dof\n",
    "plt.text(4000, 0.68, f\"$\\chi^2$ ridotto = {np.round(reduced_chi2, 3)}\")\n",
    "plt.text(4000, 0.672, f\"a = {np.round(popt_pow3_exp[0], 3)} +/- {np.round(np.sqrt(np.diag(pcov_pow3_exp)[0]), 3)}\")\n",
    "plt.text(4000, 0.664, f\"b = {np.round(popt_pow3_exp[1], 3)} +/- {np.round(np.sqrt(np.diag(pcov_pow3_exp)[1]), 3)}\")\n",
    "plt.text(4000, 0.656, f\"c = {np.round(popt_pow3_exp[2], 3)} +/- {np.round(np.sqrt(np.diag(pcov_pow3_exp)[2]), 3)}\")\n",
    "plt.text(4000, 0.648, f\"e = {np.round(popt_pow3_exp[3], 3)} +/- {np.round(np.sqrt(np.diag(pcov_pow3_exp)[3]), 3)}\")\n",
    "plt.show()"
   ],
   "metadata": {
    "collapsed": false
   },
   "execution_count": null
  },
  {
   "cell_type": "code",
   "outputs": [],
   "source": [
    "popt_pow3_exp"
   ],
   "metadata": {
    "collapsed": false
   },
   "execution_count": null
  },
  {
   "cell_type": "code",
   "outputs": [],
   "source": [
    "fig, (ax1, ax2) = plt.subplots(1,2, figsize=(12, 5))\n",
    "std_err = 1.96 *df.std() / np.sqrt(df.shape[0])\n",
    "popt1, pcov1 = curve_fit(f=f, xdata=x, ydata=y, sigma=std_err, p0=(-1, 0, 0.83), bounds=((-100, 0, 0.7), (0, 100, 0.99)), maxfev=10000)\n",
    "ax1.errorbar(x=x, y=y, yerr=std_err, fmt=\".\")\n",
    "ax1.plot(np.linspace(x.min(), x.max(), 100), f(np.linspace(x.min(), x.max(), 100), *popt1))\n",
    "\n",
    "# Reduced chi-squared\n",
    "chi2 = np.sum(((y - f(x, *popt1)) / std_err)**2)\n",
    "dof = len(y) - len(popt1)  # Number of data points - number of parameters\n",
    "reduced_chi2 = chi2 / dof\n",
    "ax1.set_title(\"Errore standard\")\n",
    "ax1.text(4000, 0.7, r\"$f(x) = ax^{-b} + c$\")\n",
    "ax1.text(4000, 0.68, f\"$\\chi^2$ ridotto = {np.round(reduced_chi2, 3)}\")\n",
    "ax1.text(4000, 0.672, f\"a = {np.round(popt1[0], 3)} +/- {np.round(np.sqrt(np.diag(pcov1)[0]), 3)}\")\n",
    "ax1.text(4000, 0.664, f\"b = {np.round(popt1[1], 3)} +/- {np.round(np.sqrt(np.diag(pcov1)[1]), 3)}\")\n",
    "ax1.text(4000, 0.656, f\"c = {np.round(popt1[2], 3)} +/- {np.round(np.sqrt(np.diag(pcov1)[2]), 3)}\")\n",
    "\n",
    "err_card = 1 / x\n",
    "popt2, pcov2 = curve_fit(f=f, xdata=x, ydata=y, sigma=err_card, p0=(-1, 0, 0.83),\n",
    "                         bounds=((-100, 0, 0.7), (0, 100, 0.99)), maxfev=10000)\n",
    "ax2.errorbar(x=x, y=y, yerr=err_card, fmt=\".\")\n",
    "ax2.plot(np.linspace(x.min(), x.max(), 100), f(np.linspace(x.min(), x.max(), 100), *popt2))\n",
    "\n",
    "# Reduced chi-squared\n",
    "chi2 = np.sum(((y - f(x, *popt2)) / err_card) ** 2)\n",
    "dof = len(y) - len(popt2)  # Number of data points - number of parameters\n",
    "reduced_chi2 = chi2 / dof\n",
    "ax2.set_title(\"1/N\")\n",
    "ax2.text(4000, 0.7, r\"$f(x) = ax^{-b} + c$\")\n",
    "ax2.text(4000, 0.682, f\"$\\chi^2$ ridotto = {np.round(reduced_chi2, 3)}\")\n",
    "ax2.text(4000, 0.675, f\"a = {np.round(popt2[0], 3)} +/- {np.round(np.sqrt(np.diag(pcov2)[0]), 3)}\")\n",
    "ax2.text(4000, 0.668, f\"b = {np.round(popt2[1], 3)} +/- {np.round(np.sqrt(np.diag(pcov2)[1]), 3)}\")\n",
    "ax2.text(4000, 0.661, f\"c = {np.round(popt2[2], 3)} +/- {np.round(np.sqrt(np.diag(pcov2)[2]), 3)}\")\n",
    "plt.savefig(\"results/fit_both.png\", dpi=300)\n",
    "plt.show()"
   ],
   "metadata": {
    "collapsed": false
   },
   "execution_count": null
  },
  {
   "cell_type": "code",
   "outputs": [],
   "source": [
    "plt.errorbar(x=x, y=y, yerr=std_err, fmt=\".\", label=\"data\")\n",
    "x_dense = np.linspace(x.min(), x.max(), 100) \n",
    "plt.plot(x_dense, f(x_dense, *popt1), label=\"Standard Error\")\n",
    "plt.plot(x_dense, f(x_dense, *popt1), label=\"1/N\")\n",
    "plt.legend()\n",
    "plt.show()"
   ],
   "metadata": {
    "collapsed": false
   },
   "execution_count": null
  },
  {
   "cell_type": "code",
   "outputs": [],
   "source": [
    "df_test = pd.read_csv(\"results/AFprediction_sample224000_250Hz_5reps.csv\")\n",
    "\n",
    "plt.figure()\n",
    "plt.errorbar(x=x, y=y, yerr=std_err, fmt=\".\", label=\"training data\")\n",
    "plt.errorbar(x=df_test.columns.astype(int), y=df_test.mean(), yerr=1.96*df_test.std()/np.sqrt(df_test.shape[0]), fmt=\".\", label=\"test data\")\n",
    "x_dense = np.linspace(x.min(), 200000, 100) \n",
    "plt.plot(x_dense, f(x_dense, *popt1), label=\"Standard Error\")\n",
    "plt.plot(x_dense, f(x_dense, *popt2), label=\"1/N\")\n",
    "plt.plot(x_dense, f_exp(x_dense, *popt_exp), label=\"exp\")\n",
    "plt.plot(x_dense, f_pow3_exp(x_dense, *popt_pow3_exp), label=\"pow2+exp\")\n",
    "plt.legend()\n",
    "plt.savefig(\"results/fit_test_both.png\", dpi=300)\n",
    "plt.show()"
   ],
   "metadata": {
    "collapsed": false
   },
   "execution_count": null
  },
  {
   "cell_type": "code",
   "outputs": [],
   "source": [
    "# Chi-Square Goodness of Fit Test\n",
    "chi2 = np.sum(((y - f1(x, *popt1)) / std_err)**2)\n",
    "\n",
    "# Reduced chi-squared\n",
    "dof = len(y) - len(popt1)  # Number of data points - number of parameters\n",
    "reduced_chi2 = chi2 / dof\n",
    "reduced_chi2"
   ],
   "metadata": {
    "collapsed": false
   },
   "execution_count": null
  },
  {
   "cell_type": "code",
   "outputs": [],
   "source": [
    "popt1"
   ],
   "metadata": {
    "collapsed": false
   },
   "execution_count": null
  },
  {
   "cell_type": "code",
   "outputs": [],
   "source": [
    "# Chi-Square Goodness of Fit Test\n",
    "chi2 = np.sum(((y - f(x, *popt2)) / std_err)**2)\n",
    "\n",
    "# Reduced chi-squared\n",
    "dof = len(y) - len(popt2)  # Number of data points - number of parameters\n",
    "reduced_chi2 = chi2 / dof\n",
    "reduced_chi2"
   ],
   "metadata": {
    "collapsed": false
   },
   "execution_count": null
  },
  {
   "cell_type": "code",
   "outputs": [],
   "source": [
    "popt2"
   ],
   "metadata": {
    "collapsed": false
   },
   "execution_count": null
  },
  {
   "cell_type": "code",
   "outputs": [],
   "source": [],
   "metadata": {
    "collapsed": false
   },
   "execution_count": null
  },
  {
   "cell_type": "code",
   "outputs": [],
   "source": [
    "import numpy as np\n",
    "from scipy.optimize import curve_fit\n",
    "import matplotlib.pyplot as plt\n",
    "\n",
    "# Define the smooth piecewise function\n",
    "def smooth_piecewise(x, x_threshold, k, a1, b1, c1, a2, b2, c2):\n",
    "    \"\"\"\n",
    "    Smooth piecewise function transitioning between:\n",
    "    f1(x) = a1 * x^(-b1) + c1 (for x < x_threshold)\n",
    "    f2(x) = a2 * exp(-b2 * x) + c2 (for x >= x_threshold)\n",
    "    \n",
    "    Parameters:\n",
    "        x: Independent variable (array-like).\n",
    "        x_threshold: Threshold where the transition happens.\n",
    "        k: Smoothness/sharpness of the transition (higher k = sharper).\n",
    "        a1, b1, c1: Parameters for f1(x).\n",
    "        a2, b2, c2: Parameters for f2(x).\n",
    "    \n",
    "    Returns:\n",
    "        Smoothly transitioned values of f(x).\n",
    "    \"\"\"\n",
    "    # Sigmoid function for smooth transition\n",
    "    sigmoid = 1 / (1 + np.exp(-k * (x - x_threshold)))\n",
    "    \n",
    "    # Define the two behaviors\n",
    "    f1 = a1 * x**(-b1) + c1  # For x < x_threshold\n",
    "    f2 = a2 * np.exp(-b2 * x) + c2  # For x >= x_threshold\n",
    "    \n",
    "    # Smooth transition\n",
    "    return (1 - sigmoid) * f1 + sigmoid * f2\n",
    "\n",
    "# Generate synthetic data for testing\n",
    "np.random.seed(42)\n",
    "x_data = np.linspace(0.5, 10, 100)  # Avoid x=0 due to division\n",
    "y_data = np.piecewise(\n",
    "    x_data,\n",
    "    [x_data < 5, x_data >= 5],\n",
    "    [\n",
    "        lambda x: -0.3 * x**(-1.5) + 0.9,  # a1=2, b1=1.5, c1=0.9\n",
    "        lambda x: -0.3 * np.exp(-0.5 * x) + 0.9,  # a2=5, b2=0.5, c2=0.9\n",
    "    ],\n",
    ") + np.random.normal(0, 0.01, len(x_data))  # Add noise\n",
    "\n",
    "# Initial guesses for parameters\n",
    "initial_guess = [5, 10, 2, 1.5, 3, 5, 0.5, 2]\n",
    "\n",
    "# Fit the smooth piecewise function to the data\n",
    "params, covariance = curve_fit(smooth_piecewise, x_data, y_data, p0=initial_guess, maxfev=1000000)\n",
    "\n",
    "# Plot the results\n",
    "plt.scatter(x_data, y_data, label=\"Data\", color=\"blue\", s=10)\n",
    "plt.plot(\n",
    "    x_data,\n",
    "    smooth_piecewise(x_data, *params),\n",
    "    label=\"Fitted Curve\",\n",
    "    color=\"red\",\n",
    "    linewidth=2,\n",
    ")\n",
    "plt.axvline(params[0], color=\"green\", linestyle=\"--\", label=\"Threshold (x_threshold)\")\n",
    "plt.legend()\n",
    "plt.xlabel(\"x\")\n",
    "plt.ylabel(\"y\")\n",
    "plt.title(\"Smooth Piecewise Fit\")\n",
    "plt.show()\n",
    "\n",
    "# Print fitted parameters\n",
    "print(\"Fitted Parameters:\")\n",
    "print(f\"x_threshold = {params[0]:.3f}, k = {params[1]:.3f}\")\n",
    "print(f\"a1 = {params[2]:.3f}, b1 = {params[3]:.3f}, c1 = {params[4]:.3f}\")\n",
    "print(f\"a2 = {params[5]:.3f}, b2 = {params[6]:.3f}, c2 = {params[7]:.3f}\")\n"
   ],
   "metadata": {
    "collapsed": false
   },
   "execution_count": null
  },
  {
   "cell_type": "code",
   "outputs": [],
   "source": [],
   "metadata": {
    "collapsed": false
   }
  }
 ]
}
